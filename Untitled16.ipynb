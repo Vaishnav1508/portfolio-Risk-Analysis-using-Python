{
 "cells": [
  {
   "cell_type": "code",
   "execution_count": null,
   "metadata": {},
   "outputs": [],
   "source": [
    "def gbm(n_years = 10, n_scenarios=1000, mu=0.07, sigma=0.15, steps_per_year=12, s_0=100.0, prices=True):\n",
    "    \"\"\"\n",
    "    Evolution of Geometric Brownian Motion trajectories, such as for Stock Prices through Monte Carlo\n",
    "    :param n_years:  The number of years to generate data for\n",
    "    :param n_paths: The number of scenarios/trajectories\n",
    "    :param mu: Annualized Drift, e.g. Market Return\n",
    "    :param sigma: Annualized Volatility\n",
    "    :param steps_per_year: granularity of the simulation\n",
    "    :param s_0: initial value\n",
    "    :return: a numpy array of n_paths columns and n_years*steps_per_year rows\n",
    "    \"\"\"\n",
    "    # Derive per-step Model Parameters from User Specifications\n",
    "    dt = 1/steps_per_year\n",
    "    n_steps = int(n_years*steps_per_year) + 1\n",
    "    # the standard way ...\n",
    "    # rets_plus_1 = np.random.normal(loc=mu*dt+1, scale=sigma*np.sqrt(dt), size=(n_steps, n_scenarios))\n",
    "    # without discretization error ...\n",
    "    rets_plus_1 = np.random.normal(loc=(1+mu)**dt, scale=(sigma*np.sqrt(dt)), size=(n_steps, n_scenarios))\n",
    "    rets_plus_1[0] = 1\n",
    "    ret_val = s_0*pd.DataFrame(rets_plus_1).cumprod() if prices else rets_plus_1-1\n",
    "    return ret_val"
   ]
  }
 ],
 "metadata": {
  "kernelspec": {
   "display_name": "Python 3",
   "language": "python",
   "name": "python3"
  },
  "language_info": {
   "codemirror_mode": {
    "name": "ipython",
    "version": 3
   },
   "file_extension": ".py",
   "mimetype": "text/x-python",
   "name": "python",
   "nbconvert_exporter": "python",
   "pygments_lexer": "ipython3",
   "version": "3.7.6"
  }
 },
 "nbformat": 4,
 "nbformat_minor": 4
}
