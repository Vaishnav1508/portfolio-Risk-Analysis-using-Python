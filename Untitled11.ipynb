{
 "cells": [
  {
   "cell_type": "code",
   "execution_count": 1,
   "metadata": {},
   "outputs": [],
   "source": [
    "%load_ext autoreload\n",
    "%autoreload 2\n",
    "import edhec_risk_kit as erk\n",
    "import pandas as pd\n",
    "import numpy as np\n",
    "from scipy.optimize import minimize\n"
   ]
  },
  {
   "cell_type": "code",
   "execution_count": 2,
   "metadata": {},
   "outputs": [],
   "source": [
    "ind=erk.get_ind_returns()\n"
   ]
  },
  {
   "cell_type": "code",
   "execution_count": 3,
   "metadata": {},
   "outputs": [],
   "source": [
    "ind=ind[\"2013\":\"2017\"]"
   ]
  },
  {
   "cell_type": "code",
   "execution_count": 4,
   "metadata": {},
   "outputs": [],
   "source": [
    "l=[\"Books\",\"Steel\",\"Oil\",\"Mines\"]\n",
    "er = erk.annualize_rets(ind[l],12)\n",
    "cov= ind[l].cov()"
   ]
  },
  {
   "cell_type": "code",
   "execution_count": 5,
   "metadata": {},
   "outputs": [
    {
     "data": {
      "text/html": [
       "<div>\n",
       "<style scoped>\n",
       "    .dataframe tbody tr th:only-of-type {\n",
       "        vertical-align: middle;\n",
       "    }\n",
       "\n",
       "    .dataframe tbody tr th {\n",
       "        vertical-align: top;\n",
       "    }\n",
       "\n",
       "    .dataframe thead th {\n",
       "        text-align: right;\n",
       "    }\n",
       "</style>\n",
       "<table border=\"1\" class=\"dataframe\">\n",
       "  <thead>\n",
       "    <tr style=\"text-align: right;\">\n",
       "      <th></th>\n",
       "      <th>Books</th>\n",
       "      <th>Steel</th>\n",
       "      <th>Oil</th>\n",
       "      <th>Mines</th>\n",
       "    </tr>\n",
       "  </thead>\n",
       "  <tbody>\n",
       "    <tr>\n",
       "      <th>Books</th>\n",
       "      <td>0.002720</td>\n",
       "      <td>0.001940</td>\n",
       "      <td>0.001637</td>\n",
       "      <td>0.001539</td>\n",
       "    </tr>\n",
       "    <tr>\n",
       "      <th>Steel</th>\n",
       "      <td>0.001940</td>\n",
       "      <td>0.004391</td>\n",
       "      <td>0.002122</td>\n",
       "      <td>0.003391</td>\n",
       "    </tr>\n",
       "    <tr>\n",
       "      <th>Oil</th>\n",
       "      <td>0.001637</td>\n",
       "      <td>0.002122</td>\n",
       "      <td>0.002697</td>\n",
       "      <td>0.002179</td>\n",
       "    </tr>\n",
       "    <tr>\n",
       "      <th>Mines</th>\n",
       "      <td>0.001539</td>\n",
       "      <td>0.003391</td>\n",
       "      <td>0.002179</td>\n",
       "      <td>0.005232</td>\n",
       "    </tr>\n",
       "  </tbody>\n",
       "</table>\n",
       "</div>"
      ],
      "text/plain": [
       "          Books     Steel       Oil     Mines\n",
       "Books  0.002720  0.001940  0.001637  0.001539\n",
       "Steel  0.001940  0.004391  0.002122  0.003391\n",
       "Oil    0.001637  0.002122  0.002697  0.002179\n",
       "Mines  0.001539  0.003391  0.002179  0.005232"
      ]
     },
     "execution_count": 5,
     "metadata": {},
     "output_type": "execute_result"
    }
   ],
   "source": [
    "cov"
   ]
  },
  {
   "cell_type": "code",
   "execution_count": 6,
   "metadata": {},
   "outputs": [
    {
     "data": {
      "text/plain": [
       "Books    0.095312\n",
       "Steel    0.100716\n",
       "Oil      0.025275\n",
       "Mines    0.005136\n",
       "dtype: float64"
      ]
     },
     "execution_count": 6,
     "metadata": {},
     "output_type": "execute_result"
    }
   ],
   "source": [
    "er"
   ]
  },
  {
   "cell_type": "code",
   "execution_count": 7,
   "metadata": {},
   "outputs": [
    {
     "data": {
      "text/plain": [
       "array([0.00000000e+00, 1.00000000e+00, 5.64652491e-16, 4.51028104e-16])"
      ]
     },
     "execution_count": 7,
     "metadata": {},
     "output_type": "execute_result"
    }
   ],
   "source": [
    "erk.msr(0.1,er,cov)"
   ]
  },
  {
   "cell_type": "code",
   "execution_count": 9,
   "metadata": {},
   "outputs": [
    {
     "name": "stdout",
     "output_type": "stream",
     "text": [
      "The autoreload extension is already loaded. To reload it, use:\n",
      "  %reload_ext autoreload\n"
     ]
    }
   ],
   "source": [
    "%load_ext autoreload\n",
    "%autoreload 2\n",
    "import edhec_risk_kit as erk\n",
    "import pandas as pd\n",
    "import numpy as np\n",
    "from scipy.optimize import minimize\n",
    "ind = erk.get_ind_returns()\n",
    "er = erk.annualize_rets(ind[\"2013\":\"2017\"],12)\n",
    "cov= ind[\"2013\":\"2017\"].cov()\n",
    "\n",
    "def msr(risk_free_rate,er,cov):\n",
    "    '''Risk free rate+er+cov to weights'''\n",
    "    n = er.shape[0]\n",
    "    init_guess= np.repeat(1/n,n)\n",
    "    bounds =((0.0,1.0),)*n\n",
    "    \n",
    "    weights_sum_to_1={\n",
    "        'type' :'eq',\n",
    "        'fun' : lambda weights: np.sum(weights)-1\n",
    "    }\n",
    "    def neg_sharpe_ratio(weights,risk_free_rate,er,cov):\n",
    "        '''returns the negative of the sharpe ratio, given weights'''\n",
    "        r = erk.portfolio_return(weights,er)\n",
    "        vol = erk.portfolio_vol(weights,cov)\n",
    "        return -(r-risk_free_rate)/vol\n",
    "    \n",
    "    results = minimize(neg_sharpe_ratio, init_guess, args =(risk_free_rate,er,cov,), method=\"SLSQP\",\n",
    "                       options ={'disp':False},\n",
    "                      constraints =(weights_sum_to_1),\n",
    "                       bounds = bounds \n",
    "                      )\n",
    "    return results.x"
   ]
  },
  {
   "cell_type": "code",
   "execution_count": 11,
   "metadata": {},
   "outputs": [],
   "source": [
    "w_msr = msr(0.1,er,cov)"
   ]
  },
  {
   "cell_type": "code",
   "execution_count": 12,
   "metadata": {},
   "outputs": [
    {
     "data": {
      "text/plain": [
       "array([0.00000000e+00, 2.46766215e-01, 5.10271682e-02, 0.00000000e+00,\n",
       "       2.57673852e-14, 0.00000000e+00, 0.00000000e+00, 0.00000000e+00,\n",
       "       0.00000000e+00, 2.78642661e-01, 4.50474722e-16, 4.49766396e-15,\n",
       "       0.00000000e+00, 9.67197872e-15, 4.67064497e-15, 2.45053911e-01,\n",
       "       6.08431034e-15, 6.82367505e-14, 7.48592958e-16, 0.00000000e+00,\n",
       "       0.00000000e+00, 1.78510045e-01, 0.00000000e+00, 0.00000000e+00,\n",
       "       0.00000000e+00, 0.00000000e+00, 0.00000000e+00, 0.00000000e+00,\n",
       "       0.00000000e+00, 0.00000000e+00])"
      ]
     },
     "execution_count": 12,
     "metadata": {},
     "output_type": "execute_result"
    }
   ],
   "source": [
    "w_msr"
   ]
  },
  {
   "cell_type": "code",
   "execution_count": null,
   "metadata": {},
   "outputs": [],
   "source": []
  }
 ],
 "metadata": {
  "kernelspec": {
   "display_name": "Python 3",
   "language": "python",
   "name": "python3"
  },
  "language_info": {
   "codemirror_mode": {
    "name": "ipython",
    "version": 3
   },
   "file_extension": ".py",
   "mimetype": "text/x-python",
   "name": "python",
   "nbconvert_exporter": "python",
   "pygments_lexer": "ipython3",
   "version": "3.7.6"
  }
 },
 "nbformat": 4,
 "nbformat_minor": 4
}
