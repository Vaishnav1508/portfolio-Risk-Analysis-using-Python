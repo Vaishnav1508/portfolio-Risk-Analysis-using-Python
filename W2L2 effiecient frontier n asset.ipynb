{
 "cells": [
  {
   "cell_type": "code",
   "execution_count": 56,
   "metadata": {},
   "outputs": [
    {
     "name": "stdout",
     "output_type": "stream",
     "text": [
      "The autoreload extension is already loaded. To reload it, use:\n",
      "  %reload_ext autoreload\n"
     ]
    }
   ],
   "source": [
    "%load_ext autoreload\n",
    "%autoreload 2\n",
    "import edhec_risk_kit as erk\n",
    "import pandas as pd\n",
    "ind = erk.get_ind_returns()\n",
    "er = erk.annualize_rets(ind[\"1996\":\"2000\"],12)\n",
    "cov= ind[\"1996\":\"2000\"].cov()\n",
    "l=['Games','Fin']"
   ]
  },
  {
   "cell_type": "code",
   "execution_count": 57,
   "metadata": {},
   "outputs": [
    {
     "data": {
      "text/plain": [
       "0.05616366940670657"
      ]
     },
     "execution_count": 57,
     "metadata": {},
     "output_type": "execute_result"
    }
   ],
   "source": [
    "\n",
    "w15 = erk.minimize_vol (0.15 ,er[l], cov.loc[l,l])\n",
    "vol15 = erk.portfolio_vol(w15,cov.loc[l,l])\n",
    "vol15"
   ]
  },
  {
   "cell_type": "code",
   "execution_count": 47,
   "metadata": {},
   "outputs": [],
   "source": [
    "\n",
    "def optimal_weight (n_points,er,cov):\n",
    "    '''list of weights to run the optimizer to minimize the colatility'''\n",
    "    target_rs = np.linspace(er.min(),er.max,n_points)\n",
    "    weights= [ erk.minimize_vol(target_return,er,cov) for target_return in target_rs]\n",
    "    return weights\n",
    "def plot_ef(n_points,er,cov):\n",
    "    '''plot the 2 asset efficient frontier'''\n",
    "    weights = optimal_weight(n_points,er,cov)\n",
    "    rets = [erk.portfolio_return(w , er) for w in weights]\n",
    "    vols = [erk.portfolio_vol(w , cov) for w in weights]\n",
    "    ef = pd.DataFrame({\"Returns\": rets ,\"Volatility\":vols})\n",
    "    return ef.plot.line(x=\"Volatility\",y=\"Returns\",style='.-')"
   ]
  },
  {
   "cell_type": "code",
   "execution_count": 66,
   "metadata": {},
   "outputs": [
    {
     "data": {
      "text/plain": [
       "<matplotlib.axes._subplots.AxesSubplot at 0x1ccae22a148>"
      ]
     },
     "execution_count": 66,
     "metadata": {},
     "output_type": "execute_result"
    },
    {
     "data": {
      "image/png": "[encoded data removed]",
      "text/plain": [
       "<Figure size 432x288 with 1 Axes>"
      ]
     },
     "metadata": {
      "needs_background": "light"
     },
     "output_type": "display_data"
    }
   ],
   "source": [
    "q=['Smoke','Fin','Games','Coal']\n",
    "covl=cov.loc[q,q]\n",
    "erk.plot_ef (25 , er[q],covl )\n"
   ]
  },
  {
   "cell_type": "code",
   "execution_count": null,
   "metadata": {},
   "outputs": [],
   "source": []
  }
 ],
 "metadata": {
  "kernelspec": {
   "display_name": "Python 3",
   "language": "python",
   "name": "python3"
  },
  "language_info": {
   "codemirror_mode": {
    "name": "ipython",
    "version": 3
   },
   "file_extension": ".py",
   "mimetype": "text/x-python",
   "name": "python",
   "nbconvert_exporter": "python",
   "pygments_lexer": "ipython3",
   "version": "3.7.6"
  }
 },
 "nbformat": 4,
 "nbformat_minor": 4
}
